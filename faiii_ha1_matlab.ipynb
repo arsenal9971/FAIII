{
 "cells": [
  {
   "cell_type": "markdown",
   "metadata": {},
   "source": [
    "### <center> Functional Analysis III: Programming Assignment </center>"
   ]
  },
  {
   "cell_type": "markdown",
   "metadata": {},
   "source": [
    "Héctor Andrade Loarca # 375708 \n",
    "\n",
    "Melf Boeckel # 543098"
   ]
  },
  {
   "cell_type": "markdown",
   "metadata": {},
   "source": [
    "We have a frame $(\\varphi_i)_i\\in I$ for a Hilbert space $\\mathcal{H}$ with frame bounds $A,B>0$, f a signal in $\\mathcal{H}$. We can recover the signal $f$ using the *frame algorithm*, Defining the sequence of signals $(g_j)_{j\\in \\mathbb{Z}}$, by\n",
    "\n",
    "$$\n",
    "g_j=\\begin{cases} \n",
    "0 & j=0 \\\\\n",
    "g_{j-1}+\\frac{2}{A+B}S(f-g_{j-1}) & j\\neq0.\n",
    "\\end{cases}\n",
    "$$\n",
    "Therefore, $\\lim_{j\\rightarrow \\infty} g_j=f$."
   ]
  },
  {
   "cell_type": "markdown",
   "metadata": {},
   "source": [
    "- (a) Let $\\mathcal{H}=\\mathbb{R}^N$, and $\\# I=M>N$. Construct a random frame for $\\mathbb{R}^N$ with $M$ elements. "
   ]
  },
  {
   "cell_type": "code",
   "execution_count": 1,
   "metadata": {
    "collapsed": false
   },
   "outputs": [],
   "source": [
    "N=6; % Dimension\n",
    "M=9; % The number of elements\n",
    "Ts = zeros(N,M); % Synthesis operator T* initialization\n",
    "% We construct a random matrix centered in zero\n",
    "while rank(Ts) ~= N\n",
    "    Ts = (rand(N,M)-0.5)*2;\n",
    "end;\n",
    "S=Ts*Ts'; %Frame operator S=(T*)T"
   ]
  },
  {
   "cell_type": "markdown",
   "metadata": {},
   "source": [
    "Lets calculate the frame bounds A,B>0 for this frame. Using the minimum and maximum eigenvalue of the matrix S."
   ]
  },
  {
   "cell_type": "code",
   "execution_count": 2,
   "metadata": {
    "collapsed": false
   },
   "outputs": [],
   "source": [
    "ls= eig(S);\n",
    "A=min(ls);\n",
    "B=max(ls);"
   ]
  },
  {
   "cell_type": "code",
   "execution_count": 3,
   "metadata": {
    "collapsed": false
   },
   "outputs": [
    {
     "name": "stdout",
     "output_type": "stream",
     "text": [
      "A =\n",
      "\n",
      "    0.1060\n",
      "\n",
      "\n",
      "B =\n",
      "\n",
      "    8.2074\n"
     ]
    }
   ],
   "source": [
    "A,B"
   ]
  },
  {
   "cell_type": "markdown",
   "metadata": {},
   "source": [
    "- (b) and (c) Implement the algorithm with such S"
   ]
  },
  {
   "cell_type": "code",
   "execution_count": 4,
   "metadata": {
    "collapsed": true
   },
   "outputs": [],
   "source": [
    "% First define our signal as a random signal\n",
    "f=rand(N,1);"
   ]
  },
  {
   "cell_type": "code",
   "execution_count": 5,
   "metadata": {
    "collapsed": false
   },
   "outputs": [],
   "source": [
    "gj=zeros(N,1); % initalize the iterations\n",
    "rate=[norm(f-gj)/norm(f)];"
   ]
  },
  {
   "cell_type": "code",
   "execution_count": 6,
   "metadata": {
    "collapsed": false
   },
   "outputs": [
    {
     "name": "stdout",
     "output_type": "stream",
     "text": [
      "ans =\n",
      "\n",
      "     0\n",
      "     0\n",
      "     0\n",
      "     0\n",
      "     0\n",
      "     0\n"
     ]
    }
   ],
   "source": [
    "gj(:,1)"
   ]
  },
  {
   "cell_type": "code",
   "execution_count": 7,
   "metadata": {
    "collapsed": false
   },
   "outputs": [
    {
     "name": "stdout",
     "output_type": "stream",
     "text": [
      "gj =\n",
      "\n",
      "         0    0.0812\n",
      "         0    0.6355\n",
      "         0    0.7159\n",
      "         0    0.1138\n",
      "         0    0.3458\n",
      "         0    0.1752\n"
     ]
    }
   ],
   "source": [
    "gj(:,2)=gj(:,1)+(2/(A+B))*(S*(f-gj(:,1)))"
   ]
  },
  {
   "cell_type": "code",
   "execution_count": 8,
   "metadata": {
    "collapsed": false
   },
   "outputs": [],
   "source": [
    "% Lets get the iterations for this function, and calculate the rate of convergence \n",
    "gj=zeros(N,1); % initalize the iterations\n",
    "rate=[norm(f-gj)/norm(f)];\n",
    "for j=2:70\n",
    "    % Lets calculate the rate of convergence\n",
    "    gj(:,j)=gj(:,j-1)+(2/(A+B))*(S*(f-gj(:,j-1)));\n",
    "    rate(j)=norm(f-gj(:,j))/norm(f);\n",
    "end"
   ]
  },
  {
   "cell_type": "code",
   "execution_count": 9,
   "metadata": {
    "collapsed": false
   },
   "outputs": [
    {
     "name": "stdout",
     "output_type": "stream",
     "text": [
      "ans =\n",
      "\n",
      "  Columns 1 through 7\n",
      "\n",
      "    0.0825    0.0830    0.0843    0.0848    0.0861    0.0865    0.0877\n",
      "    0.5524    0.5531    0.5497    0.5503    0.5471    0.5477    0.5447\n",
      "    0.9553    0.9530    0.9555    0.9534    0.9557    0.9537    0.9559\n",
      "    0.3019    0.3063    0.3039    0.3080    0.3057    0.3096    0.3075\n",
      "    0.5229    0.5258    0.5260    0.5288    0.5290    0.5317    0.5318\n",
      "    0.2063    0.2034    0.2072    0.2045    0.2081    0.2054    0.2089\n",
      "\n",
      "  Columns 8 through 14\n",
      "\n",
      "    0.0881    0.0893    0.0897    0.0908    0.0912    0.0922    0.0926\n",
      "    0.5452    0.5423    0.5429    0.5401    0.5406    0.5380    0.5385\n",
      "    0.9540    0.9561    0.9543    0.9563    0.9546    0.9565    0.9548\n",
      "    0.3112    0.3091    0.3126    0.3107    0.3140    0.3122    0.3154\n",
      "    0.5344    0.5345    0.5369    0.5371    0.5394    0.5395    0.5417\n",
      "    0.2064    0.2096    0.2072    0.2103    0.2081    0.2110    0.2089\n",
      "\n",
      "  Columns 15 through 21\n",
      "\n",
      "    0.0936    0.0939    0.0949    0.0952    0.0961    0.0964    0.0972\n",
      "    0.5360    0.5365    0.5341    0.5346    0.5323    0.5327    0.5306\n",
      "    0.9566    0.9551    0.9568    0.9553    0.9569    0.9555    0.9571\n",
      "    0.3136    0.3166    0.3150    0.3178    0.3162    0.3190    0.3174\n",
      "    0.5418    0.5439    0.5440    0.5460    0.5461    0.5479    0.5481\n",
      "    0.2116    0.2096    0.2123    0.2103    0.2128    0.2110    0.2134\n",
      "\n",
      "\n",
      "f =\n",
      "\n",
      "    0.1190\n",
      "    0.4984\n",
      "    0.9597\n",
      "    0.3404\n",
      "    0.5853\n",
      "    0.2238\n"
     ]
    }
   ],
   "source": [
    "% In the last iterations it gets it stable state and converges quite fast to f\n",
    "gj(:,50:70), f"
   ]
  },
  {
   "cell_type": "markdown",
   "metadata": {},
   "source": [
    "Now lets plot the rate of convergence and the function $r(n)=\\left(\\frac{B-A}{B+A}\\right)^j$"
   ]
  },
  {
   "cell_type": "code",
   "execution_count": 11,
   "metadata": {
    "collapsed": false
   },
   "outputs": [],
   "source": [
    "r=[1];\n",
    "for j = 2:70\n",
    "    r(j)=((B-A)/(B+A))^j;\n",
    "end"
   ]
  },
  {
   "cell_type": "code",
   "execution_count": 16,
   "metadata": {
    "collapsed": false
   },
   "outputs": [
    {
     "data": {
      "image/png": "[encoded data removed]",
      "text/plain": [
       "<IPython.core.display.Image object>"
      ]
     },
     "metadata": {},
     "output_type": "display_data"
    }
   ],
   "source": [
    "t = linspace(0,1,length(rate'));\n",
    "clf;\n",
    "plot(t,[rate',r'],'LineWidth',2);\n",
    "legend('Actual rate','Theoretical rate bound')"
   ]
  }
 ],
 "metadata": {
  "kernelspec": {
   "display_name": "Matlab",
   "language": "matlab",
   "name": "matlab"
  },
  "language_info": {
   "codemirror_mode": "octave",
   "file_extension": ".m",
   "help_links": [
    {
     "text": "MetaKernel Magics",
     "url": "https://github.com/calysto/metakernel/blob/master/metakernel/magics/README.md"
    }
   ],
   "mimetype": "text/x-matlab",
   "name": "matlab",
   "version": "0.8.0"
  }
 },
 "nbformat": 4,
 "nbformat_minor": 0
}
